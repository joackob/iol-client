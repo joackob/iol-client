{
 "cells": [
  {
   "attachments": {},
   "cell_type": "markdown",
   "metadata": {},
   "source": [
    "# Bonos e Historialización\n"
   ]
  },
  {
   "cell_type": "code",
   "execution_count": null,
   "metadata": {},
   "outputs": [],
   "source": [
    "import os\n",
    "import sys\n",
    "os.getcwd()\n",
    "sys.path.append('../')"
   ]
  },
  {
   "cell_type": "code",
   "execution_count": null,
   "metadata": {},
   "outputs": [],
   "source": [
    "import src.api.client as client\n",
    "import src.api.constants as constants"
   ]
  },
  {
   "cell_type": "markdown",
   "metadata": {},
   "source": [
    "Se recomienda usar el archivo `.env` para colocar claves privadas, pero este espacio tambien puede ser usado como punto de entrada de datos privados. Tener la debida precaución."
   ]
  },
  {
   "cell_type": "code",
   "execution_count": null,
   "metadata": {},
   "outputs": [],
   "source": [
    "user = os.getenv(\"IOL_USER\") or \"\"\n",
    "password = os.getenv(\"IOL_PASS\") or \"\""
   ]
  },
  {
   "cell_type": "code",
   "execution_count": null,
   "metadata": {},
   "outputs": [],
   "source": [
    "client_iol = client.IOLClient(username=user, password=password)"
   ]
  },
  {
   "cell_type": "markdown",
   "metadata": {},
   "source": [
    "## Historico anual de un determinado instrumento"
   ]
  },
  {
   "cell_type": "code",
   "execution_count": null,
   "metadata": {},
   "outputs": [],
   "source": [
    "from datetime import date\n",
    "from src.api.constants import Ajustada\n",
    "\n",
    "hoy = date.today()\n",
    "hace_un_anio = hoy.replace(year=hoy.year - 1)\n",
    "historico = await client_iol.get_titulo_historicos(simbolo=\"GGAL\", mercado=constants.Mercado.BCBA, fecha_desde=hace_un_anio, fecha_hasta=hoy, ajustada=Ajustada.SIN_AJUSTAR)"
   ]
  },
  {
   "cell_type": "code",
   "execution_count": null,
   "metadata": {},
   "outputs": [],
   "source": [
    "import pandas as pd\n",
    "\n",
    "# convertimos el json en un dataframe\n",
    "df = pd.DataFrame(\n",
    "    data=historico,\n",
    "    columns=[\n",
    "        \"ultimoPrecio\",\n",
    "        \"variacion\",\n",
    "        \"apertura\",\n",
    "        \"maximo\",\n",
    "        \"minimo\",\n",
    "        \"fechaHora\",\n",
    "        \"tendencia\",\n",
    "        \"cierreAnterior\",\n",
    "        \"montoOperado\",\n",
    "        \"volumenNominal\",\n",
    "        \"precioPromedio\",\n",
    "        \"moneda\",\n",
    "        \"precioAjuste\",\n",
    "        \"interesesAbiertos\",\n",
    "        \"puntas\",\n",
    "        \"cantidadOperaciones\",\n",
    "        \"descripcionTitulo\",\n",
    "        \"plazo\",\n",
    "        \"laminaMinima\",\n",
    "        \"lote\",\n",
    "    ],\n",
    ")\n",
    "df.head()"
   ]
  },
  {
   "cell_type": "markdown",
   "metadata": {},
   "source": [
    "## Guardando los datos"
   ]
  },
  {
   "cell_type": "code",
   "execution_count": null,
   "metadata": {},
   "outputs": [],
   "source": [
    "# descargar a un excel\n",
    "df.to_excel('ggal.xlsx')"
   ]
  },
  {
   "cell_type": "markdown",
   "metadata": {},
   "source": [
    "## Analisis y visualización"
   ]
  },
  {
   "cell_type": "code",
   "execution_count": null,
   "metadata": {},
   "outputs": [],
   "source": [
    "df.head()"
   ]
  },
  {
   "cell_type": "code",
   "execution_count": null,
   "metadata": {},
   "outputs": [],
   "source": [
    "df.plot.line(x='fechaHora', y='ultimoPrecio')"
   ]
  }
 ],
 "metadata": {
  "kernelspec": {
   "display_name": "Python 3",
   "language": "python",
   "name": "python3"
  },
  "language_info": {
   "codemirror_mode": {
    "name": "ipython",
    "version": 3
   },
   "file_extension": ".py",
   "mimetype": "text/x-python",
   "name": "python",
   "nbconvert_exporter": "python",
   "pygments_lexer": "ipython3",
   "version": "3.11.4"
  },
  "orig_nbformat": 4
 },
 "nbformat": 4,
 "nbformat_minor": 2
}
