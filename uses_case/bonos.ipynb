{
 "cells": [
  {
   "attachments": {},
   "cell_type": "markdown",
   "metadata": {},
   "source": [
    "# Bonos e Historialización\n"
   ]
  },
  {
   "cell_type": "code",
   "execution_count": 1,
   "metadata": {},
   "outputs": [],
   "source": [
    "\n",
    "import os\n",
    "import sys\n",
    "os.getcwd()\n",
    "sys.path.append('../')"
   ]
  },
  {
   "cell_type": "code",
   "execution_count": 2,
   "metadata": {},
   "outputs": [],
   "source": [
    "import src.api.client as client\n",
    "import src.api.constants as constants"
   ]
  },
  {
   "cell_type": "code",
   "execution_count": 3,
   "metadata": {},
   "outputs": [],
   "source": [
    "\n",
    "user = os.getenv(\"IOL_USER\") or \"\"\n",
    "password = os.getenv(\"IOL_PASS\") or \"\""
   ]
  },
  {
   "cell_type": "code",
   "execution_count": 4,
   "metadata": {},
   "outputs": [],
   "source": [
    "client_iol = client.IOLClient(username=user, password=password)"
   ]
  },
  {
   "cell_type": "code",
   "execution_count": 5,
   "metadata": {},
   "outputs": [
    {
     "ename": "ConnectionError",
     "evalue": "Authentication Error 400 <CIMultiDictProxy('Date': 'Mon, 26 Jun 2023 23:36:51 GMT', 'Content-Type': 'application/json;charset=UTF-8', 'Content-Length': '97', 'Cache-Control': 'no-cache', 'Pragma': 'no-cache', 'Expires': '-1', 'x-envoy-upstream-service-time': '61', 'Set-Cookie': '1ea65=1687822611523-337749006; Path=/; Domain=invertironline.com; Expires=Tue, 26 Sep 2023 23:36:51 GMT', 'Set-Cookie': '1ea603=hlFfaJbNeCHpRX2y+JDaM7o8o/EW5Dfp7Zq7m6jYiELR9X/h9AHD77kI4DnGX1fJG5YZXF58ZPPhQKnTDNWrgMo56QFTT4S8BDZstn2utxxo/9TrjCvfMQRScdjbyE2PgvTBsr9hhdB5oPLUN7RgzHag2tO/HKEC1ZHOoqJ1cHBpVK5E; path=/', 'x-volterra-location': 'ny8-nyc', 'Server': 'volt-adc')>",
     "output_type": "error",
     "traceback": [
      "\u001b[1;31m---------------------------------------------------------------------------\u001b[0m",
      "\u001b[1;31mConnectionError\u001b[0m                           Traceback (most recent call last)",
      "Cell \u001b[1;32mIn[5], line 1\u001b[0m\n\u001b[1;32m----> 1\u001b[0m t \u001b[39m=\u001b[39m \u001b[39mawait\u001b[39;00m client_iol\u001b[39m.\u001b[39mget_titulo_cotizacion(\u001b[39m\"\u001b[39m\u001b[39mGGAL\u001b[39m\u001b[39m\"\u001b[39m, constants\u001b[39m.\u001b[39mMercado\u001b[39m.\u001b[39mBCBA)\n\u001b[0;32m      2\u001b[0m t\n",
      "File \u001b[1;32mc:\\Users\\blanc\\Documents\\Github\\iol_testing\\uses_case\\..\\src\\api\\client.py:148\u001b[0m, in \u001b[0;36mIOLClient.get_titulo_cotizacion\u001b[1;34m(self, simbolo, mercado)\u001b[0m\n\u001b[0;32m    146\u001b[0m \u001b[39masync\u001b[39;00m \u001b[39mdef\u001b[39;00m \u001b[39mget_titulo_cotizacion\u001b[39m(\u001b[39mself\u001b[39m, simbolo, mercado):\n\u001b[0;32m    147\u001b[0m     path \u001b[39m=\u001b[39m \u001b[39mf\u001b[39m\u001b[39m\"\u001b[39m\u001b[39m{\u001b[39;00mmercado\u001b[39m}\u001b[39;00m\u001b[39m/Titulos/\u001b[39m\u001b[39m{\u001b[39;00msimbolo\u001b[39m}\u001b[39;00m\u001b[39m/Cotizacion\u001b[39m\u001b[39m\"\u001b[39m\n\u001b[1;32m--> 148\u001b[0m     \u001b[39mreturn\u001b[39;00m \u001b[39mawait\u001b[39;00m \u001b[39mself\u001b[39m\u001b[39m.\u001b[39m_request(\u001b[39m\"\u001b[39m\u001b[39mGET\u001b[39m\u001b[39m\"\u001b[39m, path)\n",
      "File \u001b[1;32mc:\\Users\\blanc\\Documents\\Github\\iol_testing\\uses_case\\..\\src\\api\\client.py:43\u001b[0m, in \u001b[0;36mIOLClient._request\u001b[1;34m(self, method, url, data_body, json_body)\u001b[0m\n\u001b[0;32m     37\u001b[0m url \u001b[39m=\u001b[39m urljoin(\u001b[39mself\u001b[39m\u001b[39m.\u001b[39mbase_url, url)\n\u001b[0;32m     39\u001b[0m \u001b[39masync\u001b[39;00m \u001b[39mwith\u001b[39;00m aiohttp\u001b[39m.\u001b[39mClientSession() \u001b[39mas\u001b[39;00m session:\n\u001b[0;32m     40\u001b[0m     \u001b[39masync\u001b[39;00m \u001b[39mwith\u001b[39;00m session\u001b[39m.\u001b[39mrequest(\n\u001b[0;32m     41\u001b[0m         method,\n\u001b[0;32m     42\u001b[0m         url,\n\u001b[1;32m---> 43\u001b[0m         headers\u001b[39m=\u001b[39m\u001b[39mawait\u001b[39;00m \u001b[39mself\u001b[39m\u001b[39m.\u001b[39m_get_headers(),\n\u001b[0;32m     44\u001b[0m         data\u001b[39m=\u001b[39mdata_body,\n\u001b[0;32m     45\u001b[0m         json\u001b[39m=\u001b[39mjson_body,\n\u001b[0;32m     46\u001b[0m     ) \u001b[39mas\u001b[39;00m resp:\n\u001b[0;32m     47\u001b[0m         \u001b[39mif\u001b[39;00m resp\u001b[39m.\u001b[39mstatus \u001b[39m!=\u001b[39m \u001b[39m200\u001b[39m \u001b[39mand\u001b[39;00m resp\u001b[39m.\u001b[39mstatus \u001b[39m!=\u001b[39m \u001b[39m202\u001b[39m:\n\u001b[0;32m     48\u001b[0m             \u001b[39mself\u001b[39m\u001b[39m.\u001b[39mlogger\u001b[39m.\u001b[39mwarning(\u001b[39mf\u001b[39m\u001b[39m\"\u001b[39m\u001b[39m{\u001b[39;00mresp\u001b[39m.\u001b[39mmethod\u001b[39m}\u001b[39;00m\u001b[39m \u001b[39m\u001b[39m{\u001b[39;00mresp\u001b[39m.\u001b[39murl\u001b[39m}\u001b[39;00m\u001b[39m \u001b[39m\u001b[39m{\u001b[39;00mresp\u001b[39m.\u001b[39mstatus\u001b[39m}\u001b[39;00m\u001b[39m\"\u001b[39m)\n",
      "File \u001b[1;32mc:\\Users\\blanc\\Documents\\Github\\iol_testing\\uses_case\\..\\src\\api\\client.py:31\u001b[0m, in \u001b[0;36mIOLClient._get_headers\u001b[1;34m(self)\u001b[0m\n\u001b[0;32m     30\u001b[0m \u001b[39masync\u001b[39;00m \u001b[39mdef\u001b[39;00m \u001b[39m_get_headers\u001b[39m(\u001b[39mself\u001b[39m):\n\u001b[1;32m---> 31\u001b[0m     header \u001b[39m=\u001b[39m {\u001b[39m\"\u001b[39m\u001b[39mAuthorization\u001b[39m\u001b[39m\"\u001b[39m: \u001b[39mawait\u001b[39;00m \u001b[39mself\u001b[39m\u001b[39m.\u001b[39mtoken_manager\u001b[39m.\u001b[39mensure_access_token()}\n\u001b[0;32m     32\u001b[0m     \u001b[39mreturn\u001b[39;00m header\n",
      "File \u001b[1;32mc:\\Users\\blanc\\Documents\\Github\\iol_testing\\uses_case\\..\\src\\api\\token_manager.py:36\u001b[0m, in \u001b[0;36mTokenManager.ensure_access_token\u001b[1;34m(self)\u001b[0m\n\u001b[0;32m     33\u001b[0m datetime_now \u001b[39m=\u001b[39m datetime\u001b[39m.\u001b[39mutcnow() \u001b[39m+\u001b[39m timedelta(seconds\u001b[39m=\u001b[39m\u001b[39m60\u001b[39m)\n\u001b[0;32m     35\u001b[0m \u001b[39mif\u001b[39;00m \u001b[39mself\u001b[39m\u001b[39m.\u001b[39mtoken \u001b[39mis\u001b[39;00m \u001b[39mNone\u001b[39;00m \u001b[39mor\u001b[39;00m \u001b[39mself\u001b[39m\u001b[39m.\u001b[39mtoken[\u001b[39m\"\u001b[39m\u001b[39m.refreshexpires\u001b[39m\u001b[39m\"\u001b[39m] \u001b[39m<\u001b[39m datetime_now:\n\u001b[1;32m---> 36\u001b[0m     \u001b[39mawait\u001b[39;00m \u001b[39mself\u001b[39m\u001b[39m.\u001b[39m_get_token()\n\u001b[0;32m     37\u001b[0m \u001b[39melif\u001b[39;00m \u001b[39mself\u001b[39m\u001b[39m.\u001b[39mtoken[\u001b[39m\"\u001b[39m\u001b[39m.expires\u001b[39m\u001b[39m\"\u001b[39m] \u001b[39m<\u001b[39m datetime_now:\n\u001b[0;32m     38\u001b[0m     \u001b[39mawait\u001b[39;00m \u001b[39mself\u001b[39m\u001b[39m.\u001b[39m_refresh_token()\n",
      "File \u001b[1;32mc:\\Users\\blanc\\Documents\\Github\\iol_testing\\uses_case\\..\\src\\api\\token_manager.py:66\u001b[0m, in \u001b[0;36mTokenManager._get_token\u001b[1;34m(self)\u001b[0m\n\u001b[0;32m     60\u001b[0m \u001b[39mself\u001b[39m\u001b[39m.\u001b[39mlogger\u001b[39m.\u001b[39mdebug(\u001b[39m\"\u001b[39m\u001b[39mGetting Token\u001b[39m\u001b[39m\"\u001b[39m)\n\u001b[0;32m     61\u001b[0m data \u001b[39m=\u001b[39m {\n\u001b[0;32m     62\u001b[0m     \u001b[39m\"\u001b[39m\u001b[39musername\u001b[39m\u001b[39m\"\u001b[39m: \u001b[39mself\u001b[39m\u001b[39m.\u001b[39m_username,\n\u001b[0;32m     63\u001b[0m     \u001b[39m\"\u001b[39m\u001b[39mpassword\u001b[39m\u001b[39m\"\u001b[39m: \u001b[39mself\u001b[39m\u001b[39m.\u001b[39m_password,\n\u001b[0;32m     64\u001b[0m     \u001b[39m\"\u001b[39m\u001b[39mgrant_type\u001b[39m\u001b[39m\"\u001b[39m: \u001b[39m\"\u001b[39m\u001b[39mpassword\u001b[39m\u001b[39m\"\u001b[39m,\n\u001b[0;32m     65\u001b[0m }\n\u001b[1;32m---> 66\u001b[0m \u001b[39mreturn\u001b[39;00m \u001b[39mawait\u001b[39;00m \u001b[39mself\u001b[39m\u001b[39m.\u001b[39m_fetch_token(data)\n",
      "File \u001b[1;32mc:\\Users\\blanc\\Documents\\Github\\iol_testing\\uses_case\\..\\src\\api\\token_manager.py:48\u001b[0m, in \u001b[0;36mTokenManager._fetch_token\u001b[1;34m(self, data)\u001b[0m\n\u001b[0;32m     44\u001b[0m \u001b[39masync\u001b[39;00m \u001b[39mwith\u001b[39;00m session\u001b[39m.\u001b[39mpost(\n\u001b[0;32m     45\u001b[0m     TOKEN_ENDPOINT, headers\u001b[39m=\u001b[39mDEFAULT_HEADERS, data\u001b[39m=\u001b[39mdata\n\u001b[0;32m     46\u001b[0m ) \u001b[39mas\u001b[39;00m resp:\n\u001b[0;32m     47\u001b[0m     \u001b[39mif\u001b[39;00m resp\u001b[39m.\u001b[39mstatus \u001b[39m!=\u001b[39m \u001b[39m200\u001b[39m:\n\u001b[1;32m---> 48\u001b[0m         \u001b[39mraise\u001b[39;00m \u001b[39mConnectionError\u001b[39;00m(\n\u001b[0;32m     49\u001b[0m             \u001b[39mf\u001b[39m\u001b[39m\"\u001b[39m\u001b[39mAuthentication Error \u001b[39m\u001b[39m{\u001b[39;00mresp\u001b[39m.\u001b[39mstatus\u001b[39m}\u001b[39;00m\u001b[39m \u001b[39m\u001b[39m{\u001b[39;00mresp\u001b[39m.\u001b[39mheaders\u001b[39m}\u001b[39;00m\u001b[39m\"\u001b[39m\n\u001b[0;32m     50\u001b[0m         )\n\u001b[0;32m     52\u001b[0m     \u001b[39mself\u001b[39m\u001b[39m.\u001b[39mtoken \u001b[39m=\u001b[39m json\u001b[39m.\u001b[39mloads(\u001b[39mawait\u001b[39;00m resp\u001b[39m.\u001b[39mtext(), object_hook\u001b[39m=\u001b[39miol_decoder_hook)\n\u001b[0;32m     54\u001b[0m     \u001b[39mself\u001b[39m\u001b[39m.\u001b[39mlogger\u001b[39m.\u001b[39minfo(\n\u001b[0;32m     55\u001b[0m         \u001b[39mf\u001b[39m\u001b[39m\"\u001b[39m\u001b[39mSucces authentication. Token expires: \u001b[39m\u001b[39m{\u001b[39;00m\u001b[39mself\u001b[39m\u001b[39m.\u001b[39mtoken[\u001b[39m'\u001b[39m\u001b[39m.expires\u001b[39m\u001b[39m'\u001b[39m]\u001b[39m}\u001b[39;00m\u001b[39m, refreshexpires: \u001b[39m\u001b[39m{\u001b[39;00m\u001b[39mself\u001b[39m\u001b[39m.\u001b[39mtoken[\u001b[39m'\u001b[39m\u001b[39m.refreshexpires\u001b[39m\u001b[39m'\u001b[39m]\u001b[39m}\u001b[39;00m\u001b[39m\"\u001b[39m\n\u001b[0;32m     56\u001b[0m     )\n",
      "\u001b[1;31mConnectionError\u001b[0m: Authentication Error 400 <CIMultiDictProxy('Date': 'Mon, 26 Jun 2023 23:36:51 GMT', 'Content-Type': 'application/json;charset=UTF-8', 'Content-Length': '97', 'Cache-Control': 'no-cache', 'Pragma': 'no-cache', 'Expires': '-1', 'x-envoy-upstream-service-time': '61', 'Set-Cookie': '1ea65=1687822611523-337749006; Path=/; Domain=invertironline.com; Expires=Tue, 26 Sep 2023 23:36:51 GMT', 'Set-Cookie': '1ea603=hlFfaJbNeCHpRX2y+JDaM7o8o/EW5Dfp7Zq7m6jYiELR9X/h9AHD77kI4DnGX1fJG5YZXF58ZPPhQKnTDNWrgMo56QFTT4S8BDZstn2utxxo/9TrjCvfMQRScdjbyE2PgvTBsr9hhdB5oPLUN7RgzHag2tO/HKEC1ZHOoqJ1cHBpVK5E; path=/', 'x-volterra-location': 'ny8-nyc', 'Server': 'volt-adc')>"
     ]
    }
   ],
   "source": [
    "t = await client_iol.get_titulo_cotizacion(\"GGAL\", constants.Mercado.BCBA)\n",
    "t"
   ]
  }
 ],
 "metadata": {
  "kernelspec": {
   "display_name": "Python 3",
   "language": "python",
   "name": "python3"
  },
  "language_info": {
   "codemirror_mode": {
    "name": "ipython",
    "version": 3
   },
   "file_extension": ".py",
   "mimetype": "text/x-python",
   "name": "python",
   "nbconvert_exporter": "python",
   "pygments_lexer": "ipython3",
   "version": "3.11.4"
  },
  "orig_nbformat": 4
 },
 "nbformat": 4,
 "nbformat_minor": 2
}
