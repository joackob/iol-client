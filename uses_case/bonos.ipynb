{
 "cells": [
  {
   "attachments": {},
   "cell_type": "markdown",
   "metadata": {},
   "source": [
    "# Bonos e Historialización\n"
   ]
  },
  {
   "cell_type": "code",
   "execution_count": 1,
   "metadata": {},
   "outputs": [],
   "source": [
    "import asyncio\n",
    "import os\n",
    "import sys\n",
    "os.getcwd()\n",
    "sys.path.append('../')"
   ]
  },
  {
   "cell_type": "code",
   "execution_count": 2,
   "metadata": {},
   "outputs": [],
   "source": [
    "import src.api.client as client\n",
    "\n",
    "user = os.getenv(\"IOL_USER\") or \"\"\n",
    "password = os.getenv(\"IOL_PASS\") or \"\""
   ]
  },
  {
   "cell_type": "code",
   "execution_count": 3,
   "metadata": {},
   "outputs": [],
   "source": [
    "client_iol = client.IOLClient(username=user, password=password)"
   ]
  },
  {
   "cell_type": "code",
   "execution_count": 4,
   "metadata": {},
   "outputs": [
    {
     "name": "stdout",
     "output_type": "stream",
     "text": [
      "Bearer m5PPe7XPr4QnF0tWDLENyTxH6fYV75Gnv5wKfCOi6HwxufVM6OZIp0PTmI4tXxSqxvGedAbv8LLShKhTAvsdnnR1E45cvR5f16rbVY0ZhqB_n_1NE1eVTl4hlUUVpVolYYFHyCUn_0v4H9AZwVunq5kj6jekoDZypt2MyZRapt97RkGBkaUy9Zt_4H-PN4gjuLjJMzW6hAichOSLxGy2NXljQvi7JfzA8Yxoo9TArkp8oT9qH0ES0PI6ZgRpE2MLZtJ4ZhlK97LPEPPOrQH4b-3GBS0a2RcqXBSwuqx79YAairHDRAzKP0MmHQyqs5VesZxWaRGKhYsB7brKjzyqpTziS003I4QJNiYcHsUUB7znrVFFps0aEOBvy3IFboles4zp50ylo5QwhDg_aRo6tmL5xC1ReviVH9fCpBrEZII\n"
     ]
    }
   ],
   "source": [
    "token = await client_iol.token_manager.ensure_access_token()\n",
    "print(token)"
   ]
  },
  {
   "cell_type": "code",
   "execution_count": 5,
   "metadata": {},
   "outputs": [
    {
     "name": "stdout",
     "output_type": "stream",
     "text": [
      "WARNING:src.api.client: GET https://api.invertironline.com/api/v2/bCBA/Titulos/GGAL/Cotizacion 401\n"
     ]
    },
    {
     "data": {
      "text/plain": [
       "{'message': 'Authorization has been denied for this request.'}"
      ]
     },
     "execution_count": 5,
     "metadata": {},
     "output_type": "execute_result"
    }
   ],
   "source": [
    "from src.api.constants import Mercado\n",
    "\n",
    "\n",
    "t = await client_iol.get_titulo_cotizacion(\"GGAL\", Mercado.BCBA)\n",
    "t"
   ]
  }
 ],
 "metadata": {
  "kernelspec": {
   "display_name": "Python 3",
   "language": "python",
   "name": "python3"
  },
  "language_info": {
   "codemirror_mode": {
    "name": "ipython",
    "version": 3
   },
   "file_extension": ".py",
   "mimetype": "text/x-python",
   "name": "python",
   "nbconvert_exporter": "python",
   "pygments_lexer": "ipython3",
   "version": "3.11.4"
  },
  "orig_nbformat": 4
 },
 "nbformat": 4,
 "nbformat_minor": 2
}
